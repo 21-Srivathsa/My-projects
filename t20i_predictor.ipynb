{
  "nbformat": 4,
  "nbformat_minor": 0,
  "metadata": {
    "colab": {
      "name": "t20i predictor",
      "provenance": [],
      "authorship_tag": "ABX9TyP2KkRFIBQfU6FzXeUx19B+",
      "include_colab_link": true
    },
    "kernelspec": {
      "name": "python3",
      "display_name": "Python 3"
    },
    "language_info": {
      "name": "python"
    }
  },
  "cells": [
    {
      "cell_type": "markdown",
      "metadata": {
        "id": "view-in-github",
        "colab_type": "text"
      },
      "source": [
        "<a href=\"https://colab.research.google.com/github/21-Srivathsa/My-projects/blob/main/t20i_predictor.ipynb\" target=\"_parent\"><img src=\"https://colab.research.google.com/assets/colab-badge.svg\" alt=\"Open In Colab\"/></a>"
      ]
    },
    {
      "cell_type": "code",
      "source": [
        "from google.colab import drive\n",
        "drive.mount('/content/drive')"
      ],
      "metadata": {
        "colab": {
          "base_uri": "https://localhost:8080/"
        },
        "id": "HAcyREok6VaC",
        "outputId": "817ca653-2184-4ea2-8f81-67deea5a4b57"
      },
      "execution_count": null,
      "outputs": [
        {
          "output_type": "stream",
          "name": "stdout",
          "text": [
            "Mounted at /content/drive\n"
          ]
        }
      ]
    },
    {
      "cell_type": "code",
      "source": [
        "import pandas as pd\n",
        "import numpy as np\n",
        "import math"
      ],
      "metadata": {
        "id": "BNHG_dAF6WGY"
      },
      "execution_count": null,
      "outputs": []
    },
    {
      "cell_type": "code",
      "source": [
        "data = pd.read_csv('/content/drive/MyDrive/Historic data/Ball by ball data/Ipl/1254060.csv')"
      ],
      "metadata": {
        "id": "MgqD5WUp6iLg"
      },
      "execution_count": null,
      "outputs": []
    },
    {
      "cell_type": "code",
      "source": [
        "data.head(2)"
      ],
      "metadata": {
        "colab": {
          "base_uri": "https://localhost:8080/",
          "height": 344
        },
        "id": "34Au7ffY68wV",
        "outputId": "1341141c-ff63-41b3-9e14-a3759a1dde53"
      },
      "execution_count": null,
      "outputs": [
        {
          "output_type": "execute_result",
          "data": {
            "text/plain": [
              "   match_id  season  start_date                                     venue  \\\n",
              "0   1254060    2021  2021-04-11  MA Chidambaram Stadium, Chepauk, Chennai   \n",
              "1   1254060    2021  2021-04-11  MA Chidambaram Stadium, Chepauk, Chennai   \n",
              "\n",
              "   innings  ball           batting_team         bowling_team striker  \\\n",
              "0        1   0.1  Kolkata Knight Riders  Sunrisers Hyderabad  N Rana   \n",
              "1        1   0.2  Kolkata Knight Riders  Sunrisers Hyderabad  N Rana   \n",
              "\n",
              "    non_striker  ... extras  wides  noballs  byes  legbyes  penalty  \\\n",
              "0  Shubman Gill  ...      0    NaN      NaN   NaN      NaN      NaN   \n",
              "1  Shubman Gill  ...      0    NaN      NaN   NaN      NaN      NaN   \n",
              "\n",
              "   wicket_type  player_dismissed other_wicket_type other_player_dismissed  \n",
              "0          NaN               NaN               NaN                    NaN  \n",
              "1          NaN               NaN               NaN                    NaN  \n",
              "\n",
              "[2 rows x 22 columns]"
            ],
            "text/html": [
              "\n",
              "  <div id=\"df-5822a19f-c790-4c46-af84-ce6eab9529a7\">\n",
              "    <div class=\"colab-df-container\">\n",
              "      <div>\n",
              "<style scoped>\n",
              "    .dataframe tbody tr th:only-of-type {\n",
              "        vertical-align: middle;\n",
              "    }\n",
              "\n",
              "    .dataframe tbody tr th {\n",
              "        vertical-align: top;\n",
              "    }\n",
              "\n",
              "    .dataframe thead th {\n",
              "        text-align: right;\n",
              "    }\n",
              "</style>\n",
              "<table border=\"1\" class=\"dataframe\">\n",
              "  <thead>\n",
              "    <tr style=\"text-align: right;\">\n",
              "      <th></th>\n",
              "      <th>match_id</th>\n",
              "      <th>season</th>\n",
              "      <th>start_date</th>\n",
              "      <th>venue</th>\n",
              "      <th>innings</th>\n",
              "      <th>ball</th>\n",
              "      <th>batting_team</th>\n",
              "      <th>bowling_team</th>\n",
              "      <th>striker</th>\n",
              "      <th>non_striker</th>\n",
              "      <th>...</th>\n",
              "      <th>extras</th>\n",
              "      <th>wides</th>\n",
              "      <th>noballs</th>\n",
              "      <th>byes</th>\n",
              "      <th>legbyes</th>\n",
              "      <th>penalty</th>\n",
              "      <th>wicket_type</th>\n",
              "      <th>player_dismissed</th>\n",
              "      <th>other_wicket_type</th>\n",
              "      <th>other_player_dismissed</th>\n",
              "    </tr>\n",
              "  </thead>\n",
              "  <tbody>\n",
              "    <tr>\n",
              "      <th>0</th>\n",
              "      <td>1254060</td>\n",
              "      <td>2021</td>\n",
              "      <td>2021-04-11</td>\n",
              "      <td>MA Chidambaram Stadium, Chepauk, Chennai</td>\n",
              "      <td>1</td>\n",
              "      <td>0.1</td>\n",
              "      <td>Kolkata Knight Riders</td>\n",
              "      <td>Sunrisers Hyderabad</td>\n",
              "      <td>N Rana</td>\n",
              "      <td>Shubman Gill</td>\n",
              "      <td>...</td>\n",
              "      <td>0</td>\n",
              "      <td>NaN</td>\n",
              "      <td>NaN</td>\n",
              "      <td>NaN</td>\n",
              "      <td>NaN</td>\n",
              "      <td>NaN</td>\n",
              "      <td>NaN</td>\n",
              "      <td>NaN</td>\n",
              "      <td>NaN</td>\n",
              "      <td>NaN</td>\n",
              "    </tr>\n",
              "    <tr>\n",
              "      <th>1</th>\n",
              "      <td>1254060</td>\n",
              "      <td>2021</td>\n",
              "      <td>2021-04-11</td>\n",
              "      <td>MA Chidambaram Stadium, Chepauk, Chennai</td>\n",
              "      <td>1</td>\n",
              "      <td>0.2</td>\n",
              "      <td>Kolkata Knight Riders</td>\n",
              "      <td>Sunrisers Hyderabad</td>\n",
              "      <td>N Rana</td>\n",
              "      <td>Shubman Gill</td>\n",
              "      <td>...</td>\n",
              "      <td>0</td>\n",
              "      <td>NaN</td>\n",
              "      <td>NaN</td>\n",
              "      <td>NaN</td>\n",
              "      <td>NaN</td>\n",
              "      <td>NaN</td>\n",
              "      <td>NaN</td>\n",
              "      <td>NaN</td>\n",
              "      <td>NaN</td>\n",
              "      <td>NaN</td>\n",
              "    </tr>\n",
              "  </tbody>\n",
              "</table>\n",
              "<p>2 rows × 22 columns</p>\n",
              "</div>\n",
              "      <button class=\"colab-df-convert\" onclick=\"convertToInteractive('df-5822a19f-c790-4c46-af84-ce6eab9529a7')\"\n",
              "              title=\"Convert this dataframe to an interactive table.\"\n",
              "              style=\"display:none;\">\n",
              "        \n",
              "  <svg xmlns=\"http://www.w3.org/2000/svg\" height=\"24px\"viewBox=\"0 0 24 24\"\n",
              "       width=\"24px\">\n",
              "    <path d=\"M0 0h24v24H0V0z\" fill=\"none\"/>\n",
              "    <path d=\"M18.56 5.44l.94 2.06.94-2.06 2.06-.94-2.06-.94-.94-2.06-.94 2.06-2.06.94zm-11 1L8.5 8.5l.94-2.06 2.06-.94-2.06-.94L8.5 2.5l-.94 2.06-2.06.94zm10 10l.94 2.06.94-2.06 2.06-.94-2.06-.94-.94-2.06-.94 2.06-2.06.94z\"/><path d=\"M17.41 7.96l-1.37-1.37c-.4-.4-.92-.59-1.43-.59-.52 0-1.04.2-1.43.59L10.3 9.45l-7.72 7.72c-.78.78-.78 2.05 0 2.83L4 21.41c.39.39.9.59 1.41.59.51 0 1.02-.2 1.41-.59l7.78-7.78 2.81-2.81c.8-.78.8-2.07 0-2.86zM5.41 20L4 18.59l7.72-7.72 1.47 1.35L5.41 20z\"/>\n",
              "  </svg>\n",
              "      </button>\n",
              "      \n",
              "  <style>\n",
              "    .colab-df-container {\n",
              "      display:flex;\n",
              "      flex-wrap:wrap;\n",
              "      gap: 12px;\n",
              "    }\n",
              "\n",
              "    .colab-df-convert {\n",
              "      background-color: #E8F0FE;\n",
              "      border: none;\n",
              "      border-radius: 50%;\n",
              "      cursor: pointer;\n",
              "      display: none;\n",
              "      fill: #1967D2;\n",
              "      height: 32px;\n",
              "      padding: 0 0 0 0;\n",
              "      width: 32px;\n",
              "    }\n",
              "\n",
              "    .colab-df-convert:hover {\n",
              "      background-color: #E2EBFA;\n",
              "      box-shadow: 0px 1px 2px rgba(60, 64, 67, 0.3), 0px 1px 3px 1px rgba(60, 64, 67, 0.15);\n",
              "      fill: #174EA6;\n",
              "    }\n",
              "\n",
              "    [theme=dark] .colab-df-convert {\n",
              "      background-color: #3B4455;\n",
              "      fill: #D2E3FC;\n",
              "    }\n",
              "\n",
              "    [theme=dark] .colab-df-convert:hover {\n",
              "      background-color: #434B5C;\n",
              "      box-shadow: 0px 1px 3px 1px rgba(0, 0, 0, 0.15);\n",
              "      filter: drop-shadow(0px 1px 2px rgba(0, 0, 0, 0.3));\n",
              "      fill: #FFFFFF;\n",
              "    }\n",
              "  </style>\n",
              "\n",
              "      <script>\n",
              "        const buttonEl =\n",
              "          document.querySelector('#df-5822a19f-c790-4c46-af84-ce6eab9529a7 button.colab-df-convert');\n",
              "        buttonEl.style.display =\n",
              "          google.colab.kernel.accessAllowed ? 'block' : 'none';\n",
              "\n",
              "        async function convertToInteractive(key) {\n",
              "          const element = document.querySelector('#df-5822a19f-c790-4c46-af84-ce6eab9529a7');\n",
              "          const dataTable =\n",
              "            await google.colab.kernel.invokeFunction('convertToInteractive',\n",
              "                                                     [key], {});\n",
              "          if (!dataTable) return;\n",
              "\n",
              "          const docLinkHtml = 'Like what you see? Visit the ' +\n",
              "            '<a target=\"_blank\" href=https://colab.research.google.com/notebooks/data_table.ipynb>data table notebook</a>'\n",
              "            + ' to learn more about interactive tables.';\n",
              "          element.innerHTML = '';\n",
              "          dataTable['output_type'] = 'display_data';\n",
              "          await google.colab.output.renderOutput(dataTable, element);\n",
              "          const docLink = document.createElement('div');\n",
              "          docLink.innerHTML = docLinkHtml;\n",
              "          element.appendChild(docLink);\n",
              "        }\n",
              "      </script>\n",
              "    </div>\n",
              "  </div>\n",
              "  "
            ]
          },
          "metadata": {},
          "execution_count": 4
        }
      ]
    },
    {
      "cell_type": "markdown",
      "source": [
        "# FUNCTIONS"
      ],
      "metadata": {
        "id": "w77bUMEs7Ejy"
      }
    },
    {
      "cell_type": "code",
      "source": [
        "def ispowerplay(data):\n",
        "  arr = []\n",
        "  for i in range(len(data[\"match_id\"])):\n",
        "    if data[\"ball\"][i]<6.1 and data[\"innings\"][i] == 1:\n",
        "      arr.append(1)\n",
        "    else:\n",
        "      arr.append(0)\n",
        "  data[\"Powerplay\"] = arr\n",
        "  \n",
        "\n",
        "def isdeath(data):\n",
        "  arr = []\n",
        "  for i in range(len(data[\"match_id\"])):\n",
        "    if data[\"ball\"][i] > 15 and data[\"innings\"][i] == 1:\n",
        "      arr.append(1)\n",
        "    else:\n",
        "      arr.append(0)\n",
        "  data[\"Death\"] = arr\n",
        "  "
      ],
      "metadata": {
        "id": "p_wdSYKh7AqL"
      },
      "execution_count": null,
      "outputs": []
    },
    {
      "cell_type": "code",
      "source": [
        "ispowerplay(data)\n",
        "isdeath(data)\n"
      ],
      "metadata": {
        "id": "8fgoaxaa8Av7"
      },
      "execution_count": null,
      "outputs": []
    },
    {
      "cell_type": "code",
      "source": [
        "data.columns"
      ],
      "metadata": {
        "colab": {
          "base_uri": "https://localhost:8080/"
        },
        "id": "fbg1Y_9QSgtO",
        "outputId": "b9ae246c-805e-4054-d1ef-23d436b7ca5a"
      },
      "execution_count": null,
      "outputs": [
        {
          "output_type": "execute_result",
          "data": {
            "text/plain": [
              "Index(['match_id', 'season', 'start_date', 'venue', 'innings', 'ball',\n",
              "       'batting_team', 'bowling_team', 'striker', 'non_striker', 'bowler',\n",
              "       'runs_off_bat', 'extras', 'wides', 'noballs', 'byes', 'legbyes',\n",
              "       'penalty', 'wicket_type', 'player_dismissed', 'other_wicket_type',\n",
              "       'other_player_dismissed', 'Powerplay', 'Death'],\n",
              "      dtype='object')"
            ]
          },
          "metadata": {},
          "execution_count": 7
        }
      ]
    },
    {
      "cell_type": "code",
      "source": [
        "def last3overruns(data):\n",
        "  arr = []\n",
        "  for i in range(len(data[\"match_id\"])):\n",
        "    pre = data[\"ball\"][i]\n",
        "    if pre < 3 and data[\"innings\"][i] == 1:\n",
        "      runs = 0\n",
        "      for j in range(i):\n",
        "        runs+=(data[\"runs_off_bat\"][j] + data[\"extras\"][j])\n",
        "      arr.append(runs)\n",
        "    else:\n",
        "      prev1 = pre - 3\n",
        "      \n",
        "      runs = 0\n",
        "\n",
        "      for k in range(len(data[\"match_id\"])):\n",
        "        if prev1 < data[\"ball\"][k] < pre and data[\"innings\"][k] == 1:\n",
        "          runs +=(data[\"runs_off_bat\"][k] + data[\"extras\"][k])\n",
        "      arr.append(runs)\n",
        "      \n",
        "      \n",
        "  data[\"Last3overruns\"] = arr\n"
      ],
      "metadata": {
        "id": "6TomuVxw-1vW"
      },
      "execution_count": null,
      "outputs": []
    },
    {
      "cell_type": "code",
      "source": [
        "last3overruns(data)"
      ],
      "metadata": {
        "id": "ueIf6LDnSVaJ"
      },
      "execution_count": null,
      "outputs": []
    },
    {
      "cell_type": "code",
      "source": [
        "def wicket_in_last_three_overs(x):\n",
        "    arr = ['lbw','caught','bowled','run out','caught and bowled','stumped']\n",
        "    c = 0\n",
        "    for i in range(len(data['ball'])):\n",
        "        if x-3 <= data['ball'][i] < x and data['innings'][i]==1:\n",
        "            if data['wicket_type'][i] in arr:\n",
        "                c = c+1\n",
        "    return(c)\n",
        "def wickets3overs(data):\n",
        "  lst = []\n",
        "  for i in data['ball']:\n",
        "      lst.append(wicket_in_last_three_overs(i))\n",
        "  data[\"Last3overwkts\"] = lst\n"
      ],
      "metadata": {
        "id": "yXY07x7_W0O0"
      },
      "execution_count": null,
      "outputs": []
    },
    {
      "cell_type": "code",
      "source": [
        "wickets3overs(data)"
      ],
      "metadata": {
        "id": "SBH7VIrMnQh5"
      },
      "execution_count": null,
      "outputs": []
    },
    {
      "cell_type": "code",
      "source": [
        "def non_striker(data):\n",
        "  arr = []\n",
        "  for i in range(len(data[\"match_id\"])):\n",
        "    if data[\"innings\"][i] == 1:\n",
        "      non = data[\"non_striker\"][i]\n",
        "      runs = 0\n",
        "      for k in range(i):\n",
        "        if data[\"striker\"][k] == non:\n",
        "          runs+=data[\"runs_off_bat\"][k]\n",
        "      arr.append(runs)\n",
        "    else:\n",
        "      arr.append(0)\n",
        "  data[\"runs_nonstriker\"] = arr\n",
        "      "
      ],
      "metadata": {
        "id": "KSajl8vAc3h9"
      },
      "execution_count": null,
      "outputs": []
    },
    {
      "cell_type": "code",
      "source": [
        "non_striker(data)"
      ],
      "metadata": {
        "id": "qMwX27YTfyaW"
      },
      "execution_count": null,
      "outputs": []
    },
    {
      "cell_type": "code",
      "source": [
        "def striker(data):\n",
        "  arr = []\n",
        "  for i in range(len(data[\"match_id\"])):\n",
        "    if data[\"innings\"][i] == 1:\n",
        "      on = data[\"striker\"][i]\n",
        "      runs = 0\n",
        "      for k in range(i):\n",
        "        if data[\"striker\"][k] == on:\n",
        "          runs+=data[\"runs_off_bat\"][k]\n",
        "      arr.append(runs)\n",
        "    else:\n",
        "      arr.append(0)\n",
        "  data[\"runs_striker\"] = arr\n",
        "  "
      ],
      "metadata": {
        "id": "FklnDXPrhqnm"
      },
      "execution_count": null,
      "outputs": []
    },
    {
      "cell_type": "code",
      "source": [
        "striker(data)"
      ],
      "metadata": {
        "id": "KsGK4g_fhw4X"
      },
      "execution_count": null,
      "outputs": []
    },
    {
      "cell_type": "code",
      "source": [
        "if np.isnan(data[\"wides\"][0]) == True:\n",
        "  print(\"ABD\")"
      ],
      "metadata": {
        "colab": {
          "base_uri": "https://localhost:8080/"
        },
        "id": "Qx75FmNkkPHy",
        "outputId": "51d7c79d-b1a7-410b-e0d3-4076f08a09cd"
      },
      "execution_count": null,
      "outputs": [
        {
          "output_type": "stream",
          "name": "stdout",
          "text": [
            "ABD\n"
          ]
        }
      ]
    },
    {
      "cell_type": "code",
      "source": [
        "def crr(data):\n",
        "  arr = []\n",
        "  tb = 0\n",
        "  runs = 0\n",
        "  for i in range(len(data[\"match_id\"])):\n",
        "    if data[\"innings\"][i] == 1:\n",
        "      runs += (data[\"runs_off_bat\"][i] + data[\"extras\"][i])\n",
        "      tb+=1\n",
        "      if np.isnan(data[\"wides\"][i]) == False or np.isnan(data[\"noballs\"][i]) == False:\n",
        "        tb -= 1\n",
        "    rr = 6*runs/tb\n",
        "    arr.append(rr)\n",
        "  data[\"CRR\"] = arr\n",
        "      \n",
        "      \n",
        "    "
      ],
      "metadata": {
        "id": "Ogqz-diheX8J"
      },
      "execution_count": null,
      "outputs": []
    },
    {
      "cell_type": "code",
      "source": [
        "crr(data)"
      ],
      "metadata": {
        "id": "zi-eQeA2qJF1"
      },
      "execution_count": null,
      "outputs": []
    },
    {
      "cell_type": "code",
      "source": [
        "data[\"CRR\"][96]"
      ],
      "metadata": {
        "colab": {
          "base_uri": "https://localhost:8080/"
        },
        "id": "872buEhgkgAK",
        "outputId": "6dce76cc-bf83-4bf4-a4f0-461b90c9570c"
      },
      "execution_count": null,
      "outputs": [
        {
          "output_type": "execute_result",
          "data": {
            "text/plain": [
              "9.8125"
            ]
          },
          "metadata": {},
          "execution_count": 19
        }
      ]
    },
    {
      "cell_type": "code",
      "source": [
        "def total_runs(data):\n",
        "    c = 0\n",
        "    for i in range(len(data['ball'])):\n",
        "        if data['innings'][i]==1:\n",
        "            c += data['runs_off_bat'][i]+data['extras'][i]\n",
        "    arr = []\n",
        "    for i in range(len(data['ball'])):\n",
        "        if data['innings'][i] == 1:\n",
        "            arr.append(c)\n",
        "        else:\n",
        "            arr.append(0)\n",
        "    data[\"Total_Runs\"] = arr"
      ],
      "metadata": {
        "id": "5_B5IZCsmDHk"
      },
      "execution_count": null,
      "outputs": []
    },
    {
      "cell_type": "code",
      "source": [
        "total_runs(data)"
      ],
      "metadata": {
        "id": "QgPRti6HmQVF"
      },
      "execution_count": null,
      "outputs": []
    },
    {
      "cell_type": "code",
      "source": [
        "def wickets_till(data):\n",
        "  w = 0\n",
        "  arr = []\n",
        "  for i in range(len(data['ball'])):\n",
        "        if data['innings'][i]==1:\n",
        "            if data[\"wicket_type\"][i] is not np.nan:\n",
        "              w+=1\n",
        "        arr.append(w)\n",
        "  data[\"Wicket_till\"] = arr"
      ],
      "metadata": {
        "id": "gQROrOt-AK5I"
      },
      "execution_count": null,
      "outputs": []
    },
    {
      "cell_type": "code",
      "source": [
        "wickets_till(data)"
      ],
      "metadata": {
        "id": "bPRCUNV6B2r2"
      },
      "execution_count": null,
      "outputs": []
    },
    {
      "cell_type": "markdown",
      "source": [
        "# VERSION 2.0\n"
      ],
      "metadata": {
        "id": "TPwcQYnc4AtH"
      }
    },
    {
      "cell_type": "code",
      "source": [
        "def sr_striker(data):\n",
        "  arr = []\n",
        "  \n",
        "  for i in range(len(data[\"match_id\"])):\n",
        "    if data[\"innings\"][i] == 1:\n",
        "      on = data[\"striker\"][i]\n",
        "      runs = 0\n",
        "      count = 0\n",
        "      for k in range(i):\n",
        "        if data[\"striker\"][k] == on:\n",
        "          runs+=data[\"runs_off_bat\"][k]\n",
        "          count+=1\n",
        "          if np.isnan(data[\"wides\"][k]) == False:\n",
        "            count-=1\n",
        "      if count == 0:\n",
        "        sr = 0\n",
        "      else:\n",
        "        sr = 100*runs/count\n",
        "      arr.append(sr)\n",
        "    else:\n",
        "      arr.append(0)\n",
        "  data[\"sr_striker\"] = arr"
      ],
      "metadata": {
        "id": "7z96PUo-4Dv6"
      },
      "execution_count": null,
      "outputs": []
    },
    {
      "cell_type": "code",
      "source": [
        "sr_striker(data)"
      ],
      "metadata": {
        "id": "iwbBWY2W6nh_"
      },
      "execution_count": null,
      "outputs": []
    },
    {
      "cell_type": "code",
      "source": [
        "def sr_nonstriker(data):\n",
        "  arr = []\n",
        "  \n",
        "  for i in range(len(data[\"match_id\"])):\n",
        "    if data[\"innings\"][i] == 1:\n",
        "      on = data[\"non_striker\"][i]\n",
        "      runs = 0\n",
        "      count = 0\n",
        "      for k in range(i):\n",
        "        if data[\"striker\"][k] == on:\n",
        "          runs+=data[\"runs_off_bat\"][k]\n",
        "          count+=1\n",
        "          if np.isnan(data[\"wides\"][k]) == False:\n",
        "            count-=1\n",
        "      if count == 0:\n",
        "        sr = 0\n",
        "      else:\n",
        "        sr = 100*runs/count\n",
        "      arr.append(sr)\n",
        "    else:\n",
        "      arr.append(0)\n",
        "  data[\"sr_nonstriker\"] = arr"
      ],
      "metadata": {
        "id": "MPA0PPKX662o"
      },
      "execution_count": null,
      "outputs": []
    },
    {
      "cell_type": "code",
      "source": [
        "sr_nonstriker(data)"
      ],
      "metadata": {
        "id": "YG-Z3wAi7WPv"
      },
      "execution_count": null,
      "outputs": []
    },
    {
      "cell_type": "code",
      "source": [
        "data.to_csv(\"/content/drive/MyDrive/Historic data/checkp1.csv\")"
      ],
      "metadata": {
        "id": "q5UGng50VFsS"
      },
      "execution_count": null,
      "outputs": []
    },
    {
      "cell_type": "markdown",
      "source": [
        "# FUNCTIONS PARI SAMAPTHAM"
      ],
      "metadata": {
        "id": "d4BxP8XCmo5Y"
      }
    },
    {
      "cell_type": "code",
      "source": [
        "def right_csv(x):\n",
        "  temp = x.split(\".\")\n",
        "  if temp[0].isdigit() is True:\n",
        "    return \"yes\"\n",
        "  else:\n",
        "    return \"no\""
      ],
      "metadata": {
        "id": "Zq9pfFgSkhSP"
      },
      "execution_count": null,
      "outputs": []
    },
    {
      "cell_type": "code",
      "source": [
        "path = \"/content/drive/MyDrive/Historic data/Ball by ball data/t20is\"\n",
        "import os\n",
        "files = [i for i in os.listdir(\"/content/drive/MyDrive/Historic data/Ball by ball data/t20is\")]"
      ],
      "metadata": {
        "id": "g7t0TpWmofLJ"
      },
      "execution_count": null,
      "outputs": []
    },
    {
      "cell_type": "code",
      "source": [
        "path2 = \"/content/drive/MyDrive/Historic data/Ball by ball data/Ipl/\"\n",
        "files2 = [i for i in os.listdir(\"/content/drive/MyDrive/Historic data/Ball by ball data/Ipl/\")]\n"
      ],
      "metadata": {
        "id": "x3rPRRjx4GbZ"
      },
      "execution_count": null,
      "outputs": []
    },
    {
      "cell_type": "code",
      "source": [
        "new = [i for i in files if right_csv(i) == \"yes\"]\n",
        "new2 = [i for i in files2 if right_csv(i) == \"yes\"]\n"
      ],
      "metadata": {
        "id": "TzZQfaG5ol6J"
      },
      "execution_count": null,
      "outputs": []
    },
    {
      "cell_type": "code",
      "source": [
        "path = \"/content/drive/MyDrive/Historic data/Ball by ball data/t20is/\"\n",
        "path_new = []\n",
        "for i in new:\n",
        "  path_new.append(path + i)"
      ],
      "metadata": {
        "id": "1VwSEwI0qa7I"
      },
      "execution_count": null,
      "outputs": []
    },
    {
      "cell_type": "code",
      "source": [
        "path = \"/content/drive/MyDrive/Historic data/Ball by ball data/Ipl/\"\n",
        "path_new2 = []\n",
        "for i in new2:\n",
        "  path_new2.append(path + i)"
      ],
      "metadata": {
        "id": "JF2nzUjZ4pJR"
      },
      "execution_count": null,
      "outputs": []
    },
    {
      "cell_type": "code",
      "source": [
        "path_new1 = path_new + path_new2"
      ],
      "metadata": {
        "id": "4yhCqp0u4vuh"
      },
      "execution_count": null,
      "outputs": []
    },
    {
      "cell_type": "code",
      "source": [
        "frames = []\n",
        "for i in path_new1:\n",
        "  data = pd.read_csv(i)\n",
        "  ispowerplay(data)\n",
        "  isdeath(data)\n",
        "  striker(data)\n",
        "  non_striker(data)\n",
        "  crr(data)\n",
        "  last3overruns(data)\n",
        "  wickets3overs(data)\n",
        "  total_runs(data)\n",
        "  sr_striker(data)\n",
        "  sr_nonstriker(data)\n",
        "  wickets_till(data)\n",
        "  frames.append(data)\n",
        "result = pd.concat(frames)\n",
        "result.to_csv('/content/drive/MyDrive/Historic data/merged_t20i.csv')"
      ],
      "metadata": {
        "colab": {
          "base_uri": "https://localhost:8080/"
        },
        "id": "pD5PGydmotDk",
        "outputId": "5b0c78e0-a0ea-4e0d-d241-7b8e3c6cd39a"
      },
      "execution_count": null,
      "outputs": [
        {
          "output_type": "stream",
          "name": "stderr",
          "text": [
            "/usr/local/lib/python3.7/dist-packages/ipykernel_launcher.py:11: RuntimeWarning: divide by zero encountered in long_scalars\n",
            "  # This is added back by InteractiveShellApp.init_path()\n"
          ]
        }
      ]
    },
    {
      "cell_type": "code",
      "source": [
        ""
      ],
      "metadata": {
        "id": "Vaz8D2vUm0wg"
      },
      "execution_count": null,
      "outputs": []
    }
  ]
}